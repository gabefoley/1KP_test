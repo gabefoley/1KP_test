{
 "cells": [
  {
   "cell_type": "code",
   "execution_count": 18,
   "metadata": {
    "collapsed": true
   },
   "outputs": [],
   "source": [
    "from lxml import etree as ET\n",
    "from Bio import Entrez\n",
    "import re\n",
    "from ipywidgets import widgets"
   ]
  },
  {
   "cell_type": "markdown",
   "metadata": {},
   "source": [
    "# Instructions\n",
    "Upload your fasta file and xml file into the files folder and then enter your email and change the name of fasta and xml in the cell below. \n",
    "\n",
    "You should also change the `trim` and `add_taxonomy` variables if you wish to trim or omit the Family information onto the headers"
   ]
  },
  {
   "cell_type": "code",
   "execution_count": 21,
   "metadata": {},
   "outputs": [],
   "source": [
    "Entrez.email = \"ENTER YOUR EMAIL HERE\"\n",
    "fasta = \"files/1kp_output.fasta\"\n",
    "xml = \"files/1kp_output.xml\"\n",
    "output = \"files/cleanednew.fasta\"\n",
    "trim = False\n",
    "add_taxonomy = True"
   ]
  },
  {
   "cell_type": "code",
   "execution_count": 22,
   "metadata": {},
   "outputs": [
    {
     "ename": "OSError",
     "evalue": "Error reading file 'files/1kp_output.xml': failed to load external entity \"files/1kp_output.xml\"",
     "output_type": "error",
     "traceback": [
      "\u001b[0;31m---------------------------------------------------------------------------\u001b[0m",
      "\u001b[0;31mOSError\u001b[0m                                   Traceback (most recent call last)",
      "\u001b[0;32m<ipython-input-22-5d362b673208>\u001b[0m in \u001b[0;36m<module>\u001b[0;34m()\u001b[0m\n\u001b[1;32m     84\u001b[0m \u001b[0;34m\u001b[0m\u001b[0m\n\u001b[1;32m     85\u001b[0m \u001b[0mrename_1KP\u001b[0m \u001b[0;34m=\u001b[0m \u001b[0mRename_1KP\u001b[0m\u001b[0;34m(\u001b[0m\u001b[0mfasta\u001b[0m\u001b[0;34m,\u001b[0m \u001b[0mxml\u001b[0m\u001b[0;34m,\u001b[0m \u001b[0moutput\u001b[0m\u001b[0;34m,\u001b[0m \u001b[0mtrim\u001b[0m\u001b[0;34m,\u001b[0m \u001b[0madd_taxonomy\u001b[0m\u001b[0;34m)\u001b[0m\u001b[0;34m\u001b[0m\u001b[0m\n\u001b[0;32m---> 86\u001b[0;31m \u001b[0mrename_1KP\u001b[0m\u001b[0;34m.\u001b[0m\u001b[0mmap_headers\u001b[0m\u001b[0;34m(\u001b[0m\u001b[0;34m)\u001b[0m\u001b[0;34m\u001b[0m\u001b[0m\n\u001b[0m\u001b[1;32m     87\u001b[0m \u001b[0mrename_1KP\u001b[0m\u001b[0;34m.\u001b[0m\u001b[0mget_taxonomy\u001b[0m\u001b[0;34m(\u001b[0m\u001b[0;34m)\u001b[0m\u001b[0;34m\u001b[0m\u001b[0m\n\u001b[1;32m     88\u001b[0m \u001b[0mrename_1KP\u001b[0m\u001b[0;34m.\u001b[0m\u001b[0mwrite_file\u001b[0m\u001b[0;34m(\u001b[0m\u001b[0;34m)\u001b[0m\u001b[0;34m\u001b[0m\u001b[0m\n",
      "\u001b[0;32m<ipython-input-22-5d362b673208>\u001b[0m in \u001b[0;36mmap_headers\u001b[0;34m(self)\u001b[0m\n\u001b[1;32m     31\u001b[0m     \u001b[0;31m# Create a mapping from short headers to longer headers\u001b[0m\u001b[0;34m\u001b[0m\u001b[0;34m\u001b[0m\u001b[0m\n\u001b[1;32m     32\u001b[0m     \u001b[0;32mdef\u001b[0m \u001b[0mmap_headers\u001b[0m\u001b[0;34m(\u001b[0m\u001b[0mself\u001b[0m\u001b[0;34m)\u001b[0m\u001b[0;34m:\u001b[0m\u001b[0;34m\u001b[0m\u001b[0m\n\u001b[0;32m---> 33\u001b[0;31m         \u001b[0mxml_parsed\u001b[0m \u001b[0;34m=\u001b[0m \u001b[0mET\u001b[0m\u001b[0;34m.\u001b[0m\u001b[0mparse\u001b[0m\u001b[0;34m(\u001b[0m\u001b[0mself\u001b[0m\u001b[0;34m.\u001b[0m\u001b[0mxml\u001b[0m\u001b[0;34m)\u001b[0m\u001b[0;34m.\u001b[0m\u001b[0mgetroot\u001b[0m\u001b[0;34m(\u001b[0m\u001b[0;34m)\u001b[0m\u001b[0;34m\u001b[0m\u001b[0m\n\u001b[0m\u001b[1;32m     34\u001b[0m         \u001b[0;32mfor\u001b[0m \u001b[0mitm\u001b[0m \u001b[0;32min\u001b[0m \u001b[0mxml_parsed\u001b[0m\u001b[0;34m.\u001b[0m\u001b[0mxpath\u001b[0m\u001b[0;34m(\u001b[0m\u001b[0;34m\"/BlastOutput/BlastOutput_iterations/Iteration/Iteration_hits/Hit/Hit_def/text()\"\u001b[0m\u001b[0;34m)\u001b[0m\u001b[0;34m:\u001b[0m\u001b[0;34m\u001b[0m\u001b[0m\n\u001b[1;32m     35\u001b[0m             \u001b[0mshort_header\u001b[0m \u001b[0;34m=\u001b[0m \u001b[0mitm\u001b[0m\u001b[0;34m.\u001b[0m\u001b[0msplit\u001b[0m\u001b[0;34m(\u001b[0m\u001b[0;34m\"-\"\u001b[0m\u001b[0;34m)\u001b[0m\u001b[0;34m[\u001b[0m\u001b[0;36m1\u001b[0m\u001b[0;34m]\u001b[0m \u001b[0;34m+\u001b[0m \u001b[0;34m\"-\"\u001b[0m \u001b[0;34m+\u001b[0m \u001b[0mitm\u001b[0m\u001b[0;34m.\u001b[0m\u001b[0msplit\u001b[0m\u001b[0;34m(\u001b[0m\u001b[0;34m\"-\"\u001b[0m\u001b[0;34m)\u001b[0m\u001b[0;34m[\u001b[0m\u001b[0;36m2\u001b[0m\u001b[0;34m]\u001b[0m\u001b[0;34m\u001b[0m\u001b[0m\n",
      "\u001b[0;32msrc/lxml/lxml.etree.pyx\u001b[0m in \u001b[0;36mlxml.etree.parse (src/lxml/lxml.etree.c:81117)\u001b[0;34m()\u001b[0m\n",
      "\u001b[0;32msrc/lxml/parser.pxi\u001b[0m in \u001b[0;36mlxml.etree._parseDocument (src/lxml/lxml.etree.c:117848)\u001b[0;34m()\u001b[0m\n",
      "\u001b[0;32msrc/lxml/parser.pxi\u001b[0m in \u001b[0;36mlxml.etree._parseDocumentFromURL (src/lxml/lxml.etree.c:118195)\u001b[0;34m()\u001b[0m\n",
      "\u001b[0;32msrc/lxml/parser.pxi\u001b[0m in \u001b[0;36mlxml.etree._parseDocFromFile (src/lxml/lxml.etree.c:117107)\u001b[0;34m()\u001b[0m\n",
      "\u001b[0;32msrc/lxml/parser.pxi\u001b[0m in \u001b[0;36mlxml.etree._BaseParser._parseDocFromFile (src/lxml/lxml.etree.c:111653)\u001b[0;34m()\u001b[0m\n",
      "\u001b[0;32msrc/lxml/parser.pxi\u001b[0m in \u001b[0;36mlxml.etree._ParserContext._handleParseResultDoc (src/lxml/lxml.etree.c:105109)\u001b[0;34m()\u001b[0m\n",
      "\u001b[0;32msrc/lxml/parser.pxi\u001b[0m in \u001b[0;36mlxml.etree._handleParseResult (src/lxml/lxml.etree.c:106817)\u001b[0;34m()\u001b[0m\n",
      "\u001b[0;32msrc/lxml/parser.pxi\u001b[0m in \u001b[0;36mlxml.etree._raiseParseError (src/lxml/lxml.etree.c:105628)\u001b[0;34m()\u001b[0m\n",
      "\u001b[0;31mOSError\u001b[0m: Error reading file 'files/1kp_output.xml': failed to load external entity \"files/1kp_output.xml\""
     ]
    }
   ],
   "source": [
    "class Rename_1KP():\n",
    "\n",
    "    def __init__(self, fasta, xml, output, trim=True, add_taxonomy=True):\n",
    "        self.fasta = fasta\n",
    "        self.xml = xml\n",
    "        self.output = output\n",
    "        self.trim = trim\n",
    "        self.add_taxonomy = add_taxonomy\n",
    "        self.full_names = {}\n",
    "        self.taxonomy_dict = {}\n",
    "        self.tax_id_string = \"\"\n",
    "\n",
    "    # Map a species name to a taxonomic ID\n",
    "    def get_tax_id(self, species):\n",
    "        species = species.replace(\" \", \"+\").strip()\n",
    "        search = Entrez.esearch(term = species, db = \"taxonomy\", retmode = \"xml\")\n",
    "        record = Entrez.read(search)\n",
    "        if len(record['IdList']) == 0:\n",
    "            print (\"Couldn't find taxonomic information for %s \\n \" % (species))\n",
    "            return \"\"\n",
    "        else:\n",
    "            return record['IdList'][0]\n",
    "\n",
    "    # Map a taxonomic ID to the taxonomic information\n",
    "    def get_tax_data(self, taxid):\n",
    "        search = Entrez.efetch(id = taxid, db = \"taxonomy\", retmode = \"xml\")\n",
    "        return Entrez.read(search)\n",
    "\n",
    "\n",
    "\n",
    "    # Create a mapping from short headers to longer headers\n",
    "    def map_headers(self):\n",
    "        xml_parsed = ET.parse(self.xml).getroot()\n",
    "        for itm in xml_parsed.xpath(\"/BlastOutput/BlastOutput_iterations/Iteration/Iteration_hits/Hit/Hit_def/text()\"):\n",
    "            short_header = itm.split(\"-\")[1] + \"-\" + itm.split(\"-\")[2]\n",
    "\n",
    "            # Do we need to trim the trailing information?\n",
    "            if self.trim:\n",
    "\n",
    "                self.full_names[short_header] = \"-\".join(itm.split(\"-\")[0:4])\n",
    "                species = \"-\".join(itm.split(\"-\")[3:4])\n",
    "            else:\n",
    "                self.full_names[short_header] = itm\n",
    "                species = \"-\".join(itm.split(\"-\")[3:])\n",
    "\n",
    "\n",
    "            # Do we need to create a mapping from species name to taxonomy?\n",
    "            if self.add_taxonomy:\n",
    "                trimmed_species = \"-\".join(itm.split(\"-\")[3:4])\n",
    "\n",
    "                if (species not in self.taxonomy_dict):\n",
    "                    tax_id = self.get_tax_id(trimmed_species)\n",
    "                    self.tax_id_string += \",\" + tax_id\n",
    "                    self.taxonomy_dict[trimmed_species] = \"\"\n",
    "\n",
    "\n",
    "    def get_taxonomy(self):\n",
    "        # Remove blank hits and the leading comma\n",
    "        tax_id_string = re.sub(',,+', ',', self.tax_id_string)[1:]\n",
    "        data = self.get_tax_data(tax_id_string)\n",
    "\n",
    "        for x in range(len(data)):\n",
    "            species = \"_\".join(data[x]['ScientificName'].split(\" \"))\n",
    "            lineage = {species: d['ScientificName'] for d in data[x]['LineageEx'] if d['Rank'] in ['family']}\n",
    "\n",
    "            self.taxonomy_dict[species] = \"_\" + lineage[species]\n",
    "\n",
    "\n",
    "    def write_file(self):\n",
    "\n",
    "        # Open the output file and replace the shorter header with the longer header\n",
    "        with open(fasta) as infile, open(output, 'w') as outfile:\n",
    "            for line in infile:\n",
    "                if line.startswith(\">\"):\n",
    "                    id = line[1:].strip()\n",
    "\n",
    "                    line = line.replace(id, self.full_names[id]).strip()\n",
    "                    if self.add_taxonomy:\n",
    "                        species = \"_\".join(line.split(\"-\")[3:4]).strip()\n",
    "                        line += self.taxonomy_dict[species] + \"\\n\"\n",
    "\n",
    "\n",
    "                outfile.write(line.replace(\"-\", \"_\"))\n",
    "\n",
    "rename_1KP = Rename_1KP(fasta, xml, output, trim, add_taxonomy)\n",
    "rename_1KP.map_headers()\n",
    "rename_1KP.get_taxonomy()\n",
    "rename_1KP.write_file()\n"
   ]
  },
  {
   "cell_type": "code",
   "execution_count": null,
   "metadata": {
    "collapsed": true
   },
   "outputs": [],
   "source": []
  }
 ],
 "metadata": {
  "kernelspec": {
   "display_name": "Python 3",
   "language": "python",
   "name": "python3"
  },
  "language_info": {
   "codemirror_mode": {
    "name": "ipython",
    "version": 3
   },
   "file_extension": ".py",
   "mimetype": "text/x-python",
   "name": "python",
   "nbconvert_exporter": "python",
   "pygments_lexer": "ipython3",
   "version": "3.6.1"
  }
 },
 "nbformat": 4,
 "nbformat_minor": 2
}
